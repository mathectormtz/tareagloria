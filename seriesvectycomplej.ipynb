{
  "nbformat": 4,
  "nbformat_minor": 0,
  "metadata": {
    "colab": {
      "provenance": [],
      "authorship_tag": "ABX9TyPgkN2rGRakTcDGsBMnPgJ7",
      "include_colab_link": true
    },
    "kernelspec": {
      "name": "python3",
      "display_name": "Python 3"
    },
    "language_info": {
      "name": "python"
    }
  },
  "cells": [
    {
      "cell_type": "markdown",
      "metadata": {
        "id": "view-in-github",
        "colab_type": "text"
      },
      "source": [
        "<a href=\"https://colab.research.google.com/github/mathectormtz/tareagloria/blob/main/seriesvectycomplej.ipynb\" target=\"_parent\"><img src=\"https://colab.research.google.com/assets/colab-badge.svg\" alt=\"Open In Colab\"/></a>"
      ]
    },
    {
      "cell_type": "code",
      "execution_count": null,
      "metadata": {
        "colab": {
          "base_uri": "https://localhost:8080/"
        },
        "id": "b01TPuN3qj0c",
        "outputId": "e91d9b89-f1ca-46e7-d9ad-4e112daa6943"
      },
      "outputs": [
        {
          "output_type": "stream",
          "name": "stdout",
          "text": [
            "Dame el valor del cual quieres la raíz: 20\n",
            "Da una aproximación: 8\n",
            "La raíz aproximada de  20.0 es 4.4721359549995796101 \n",
            "La raíz con math de 20.0 es 4.4721359549995796101\n",
            "La suceción es:  [5.25, 4.529761904761905, 4.472502502972279, 4.4721359700199645, 4.47213595499958, 4.47213595499958]\n"
          ]
        }
      ],
      "source": [
        "\n",
        "import math\n",
        "\n",
        "n = float(input(\"Dame el valor del cual quieres la raíz: \"))\n",
        "aprox = float(input(\"Da una aproximación: \"))\n",
        "\n",
        "sucRaiz= []\n",
        "\n",
        "for i in range(6):\n",
        "    aprox = (1/2)*(aprox +  n/aprox)\n",
        "    sucRaiz.append(aprox)\n",
        "\n",
        "print(\"La raíz aproximada de  {0} es {1:.20} \".format(n,aprox))\n",
        "print(\"La raíz con math de {0} es {1:.20}\".format(n,math.sqrt(n)))\n",
        "print(\"La suceción es: \", sucRaiz)"
      ]
    },
    {
      "cell_type": "markdown",
      "source": [
        "tarea series"
      ],
      "metadata": {
        "id": "0XwhE_qX4cj4"
      }
    },
    {
      "cell_type": "code",
      "source": [
        "from re import A\n",
        "from sympy import symbols, sin, pi\n",
        "from sympy.plotting import plot\n",
        "x = symbols('x')\n",
        "\n",
        "\n",
        "fx = 1\n",
        "for k in range(1, 100):\n",
        "  fx = fx + ((sin (2*pi*(k**2)*x))/(4*(pi**2)*(k**5)))+(x**2)/(2*k)\n",
        "\n",
        "\n",
        "\n",
        "print(fx)\n"
      ],
      "metadata": {
        "colab": {
          "base_uri": "https://localhost:8080/"
        },
        "id": "4Qv0bjq84fB9",
        "outputId": "2e247c91-b249-48a7-ef18-0afdd6fedb73"
      },
      "execution_count": null,
      "outputs": [
        {
          "output_type": "stream",
          "name": "stdout",
          "text": [
            "360968703235711654233892612988250163157207*x**2/139440750459424954329067617870624607113600 + sin(2*pi*x)/(4*pi**2) + sin(8*pi*x)/(128*pi**2) + sin(18*pi*x)/(972*pi**2) + sin(32*pi*x)/(4096*pi**2) + sin(50*pi*x)/(12500*pi**2) + sin(72*pi*x)/(31104*pi**2) + sin(98*pi*x)/(67228*pi**2) + sin(128*pi*x)/(131072*pi**2) + sin(162*pi*x)/(236196*pi**2) + sin(200*pi*x)/(400000*pi**2) + sin(242*pi*x)/(644204*pi**2) + sin(288*pi*x)/(995328*pi**2) + sin(338*pi*x)/(1485172*pi**2) + sin(392*pi*x)/(2151296*pi**2) + sin(450*pi*x)/(3037500*pi**2) + sin(512*pi*x)/(4194304*pi**2) + sin(578*pi*x)/(5679428*pi**2) + sin(648*pi*x)/(7558272*pi**2) + sin(722*pi*x)/(9904396*pi**2) + sin(800*pi*x)/(12800000*pi**2) + sin(882*pi*x)/(16336404*pi**2) + sin(968*pi*x)/(20614528*pi**2) + sin(1058*pi*x)/(25745372*pi**2) + sin(1152*pi*x)/(31850496*pi**2) + sin(1250*pi*x)/(39062500*pi**2) + sin(1352*pi*x)/(47525504*pi**2) + sin(1458*pi*x)/(57395628*pi**2) + sin(1568*pi*x)/(68841472*pi**2) + sin(1682*pi*x)/(82044596*pi**2) + sin(1800*pi*x)/(97200000*pi**2) + sin(1922*pi*x)/(114516604*pi**2) + sin(2048*pi*x)/(134217728*pi**2) + sin(2178*pi*x)/(156541572*pi**2) + sin(2312*pi*x)/(181741696*pi**2) + sin(2450*pi*x)/(210087500*pi**2) + sin(2592*pi*x)/(241864704*pi**2) + sin(2738*pi*x)/(277375828*pi**2) + sin(2888*pi*x)/(316940672*pi**2) + sin(3042*pi*x)/(360896796*pi**2) + sin(3200*pi*x)/(409600000*pi**2) + sin(3362*pi*x)/(463424804*pi**2) + sin(3528*pi*x)/(522764928*pi**2) + sin(3698*pi*x)/(588033772*pi**2) + sin(3872*pi*x)/(659664896*pi**2) + sin(4050*pi*x)/(738112500*pi**2) + sin(4232*pi*x)/(823851904*pi**2) + sin(4418*pi*x)/(917380028*pi**2) + sin(4608*pi*x)/(1019215872*pi**2) + sin(4802*pi*x)/(1129900996*pi**2) + sin(5000*pi*x)/(1250000000*pi**2) + sin(5202*pi*x)/(1380101004*pi**2) + sin(5408*pi*x)/(1520816128*pi**2) + sin(5618*pi*x)/(1672781972*pi**2) + sin(5832*pi*x)/(1836660096*pi**2) + sin(6050*pi*x)/(2013137500*pi**2) + sin(6272*pi*x)/(2202927104*pi**2) + sin(6498*pi*x)/(2406768228*pi**2) + sin(6728*pi*x)/(2625427072*pi**2) + sin(6962*pi*x)/(2859697196*pi**2) + sin(7200*pi*x)/(3110400000*pi**2) + sin(7442*pi*x)/(3378385204*pi**2) + sin(7688*pi*x)/(3664531328*pi**2) + sin(7938*pi*x)/(3969746172*pi**2) + sin(8192*pi*x)/(4294967296*pi**2) + sin(8450*pi*x)/(4641162500*pi**2) + sin(8712*pi*x)/(5009330304*pi**2) + sin(8978*pi*x)/(5400500428*pi**2) + sin(9248*pi*x)/(5815734272*pi**2) + sin(9522*pi*x)/(6256125396*pi**2) + sin(9800*pi*x)/(6722800000*pi**2) + sin(10082*pi*x)/(7216917404*pi**2) + sin(10368*pi*x)/(7739670528*pi**2) + sin(10658*pi*x)/(8292286372*pi**2) + sin(10952*pi*x)/(8876026496*pi**2) + sin(11250*pi*x)/(9492187500*pi**2) + sin(11552*pi*x)/(10142101504*pi**2) + sin(11858*pi*x)/(10827136628*pi**2) + sin(12168*pi*x)/(11548697472*pi**2) + sin(12482*pi*x)/(12308225596*pi**2) + sin(12800*pi*x)/(13107200000*pi**2) + sin(13122*pi*x)/(13947137604*pi**2) + sin(13448*pi*x)/(14829593728*pi**2) + sin(13778*pi*x)/(15756162572*pi**2) + sin(14112*pi*x)/(16728477696*pi**2) + sin(14450*pi*x)/(17748212500*pi**2) + sin(14792*pi*x)/(18817080704*pi**2) + sin(15138*pi*x)/(19936836828*pi**2) + sin(15488*pi*x)/(21109276672*pi**2) + sin(15842*pi*x)/(22336237796*pi**2) + sin(16200*pi*x)/(23619600000*pi**2) + sin(16562*pi*x)/(24961285804*pi**2) + sin(16928*pi*x)/(26363260928*pi**2) + sin(17298*pi*x)/(27827534772*pi**2) + sin(17672*pi*x)/(29356160896*pi**2) + sin(18050*pi*x)/(30951237500*pi**2) + sin(18432*pi*x)/(32614907904*pi**2) + sin(18818*pi*x)/(34349361028*pi**2) + sin(19208*pi*x)/(36156831872*pi**2) + sin(19602*pi*x)/(38039601996*pi**2) + 1\n"
          ]
        }
      ]
    },
    {
      "cell_type": "markdown",
      "source": [
        "tarea conmutatividad vectores"
      ],
      "metadata": {
        "id": "sTADdjAF66VE"
      }
    },
    {
      "cell_type": "code",
      "source": [
        "import matplotlib.pyplot as plt\n",
        "\n",
        "def sumaVectores(z1,z2):\n",
        "    return (z1[0]+z2[0], z1[1]+z2[1])\n",
        "\n",
        "z1 = (2,1)\n",
        "z2 = (3,4)\n",
        "suma = sumaVectores(z1,z2)\n",
        "\n",
        "plt.quiver (0,0, z1[0], z1[1], color='g',units='xy',scale=1)\n",
        "plt.quiver (z1[0], z1[1], z2[0], z2[1], color='b',units='xy',scale=1)\n",
        "plt.quiver (0,0, suma[0], suma[1], color='r',units='xy',scale=1)\n",
        "plt.quiver (0,0, z2[0], z2[1], color='b',units='xy',scale=1)\n",
        "plt.quiver (z2[0], z2[1], z1[0], z1[1], color='g',units='xy',scale=1)\n",
        "plt.axis('scaled')\n",
        "plt.xlim(0,6)\n",
        "plt.ylim(0,6)\n",
        "plt.show()"
      ],
      "metadata": {
        "id": "WWoUFK0c7EqX",
        "colab": {
          "base_uri": "https://localhost:8080/",
          "height": 435
        },
        "outputId": "30be632f-1adf-401b-a2ae-64b4e769cb4b"
      },
      "execution_count": null,
      "outputs": [
        {
          "output_type": "display_data",
          "data": {
            "text/plain": [
              "<Figure size 640x480 with 1 Axes>"
            ],
            "image/png": "[encoded data removed]"
          },
          "metadata": {}
        }
      ]
    },
    {
      "cell_type": "markdown",
      "source": [
        "tarea asociatividad vectores"
      ],
      "metadata": {
        "id": "UF_jOVyREZwP"
      }
    },
    {
      "cell_type": "code",
      "source": [
        "import matplotlib.pyplot as plt\n",
        "\n",
        "def sumaVectores12(z1,z2):\n",
        "    return (z1[0]+z2[0], z1[1]+z2[1])\n",
        "\n",
        "def sumaVectores23(z2,z3):\n",
        "    return (z2[0]+z3[0], z2[1]+z3[1])\n",
        "\n",
        "def sumaVectores123(z1,z2,z3):\n",
        "    return (z1[0]+z2[0]+z3[0], z1[1]+z2[1]+z3[1])\n",
        "\n",
        "z1 = (2,1)\n",
        "z2 = (3,2)\n",
        "z3 = (1,4)\n",
        "suma12 = sumaVectores12(z1,z2)\n",
        "suma23 = sumaVectores23(z2,z3)\n",
        "suma123 = sumaVectores123(z1,z2,z3)\n",
        "\n",
        "\n",
        "plt.quiver (0,0, z1[0], z1[1], color='g',units='xy',scale=1)\n",
        "plt.quiver (z1[0], z1[1], z2[0], z2[1], color='b',units='xy',scale=1)\n",
        "plt.quiver (0,0, suma12[0], suma12[1], color='black',units='xy',scale=1)\n",
        "plt.quiver (z1[0],z1[1], suma23[0], suma23[1], color='brown' ,units='xy',scale=1)\n",
        "plt.quiver (suma12[0], suma12[1], z3[0], z3[1], color='r',units='xy',scale=1)\n",
        "plt.quiver (0,0, suma123[0], suma123[1], color='y',units='xy',scale=1)\n",
        "\n",
        "plt.axis('scaled')\n",
        "plt.xlim(0,10)\n",
        "plt.ylim(0,10)\n",
        "plt.show()"
      ],
      "metadata": {
        "id": "glb9cPMUEfsC",
        "colab": {
          "base_uri": "https://localhost:8080/",
          "height": 435
        },
        "outputId": "1252774d-c108-4dc3-bc87-7b053185cc6d"
      },
      "execution_count": 32,
      "outputs": [
        {
          "output_type": "display_data",
          "data": {
            "text/plain": [
              "<Figure size 640x480 with 1 Axes>"
            ],
            "image/png": "[encoded data removed]"
          },
          "metadata": {}
        }
      ]
    },
    {
      "cell_type": "markdown",
      "source": [
        "tarea división complejos"
      ],
      "metadata": {
        "id": "0GSBDUrbfdvk"
      }
    },
    {
      "cell_type": "code",
      "source": [
        "from sympy import  symbols, sqrt\n",
        "import math\n",
        "\n",
        "a = float(int(input(\"Dame la parte real del primer complejo: \")))\n",
        "b = float(int(input(\"Dame la parte imaginaria del primer complejo: \")))\n",
        "c = float(int(input(\"Dame la parte real del  segundo complejo: \")))\n",
        "d = float(int(input(\"Dame la parte imaginaria del segundo complejo: \")))\n",
        "\n",
        "i = symbols('i')\n",
        "\n",
        "norma1 = math.sqrt(a**2 + b**2)\n",
        "norma2 = math.sqrt(c**2 + d**2)\n",
        "\n",
        "e = a+b*i\n",
        "f = c+d*i\n",
        "\n",
        "g = e/f\n",
        "h = f/e\n",
        "\n",
        "x = a*c - b*d\n",
        "y = b*c - a*d\n",
        "z = a*c + b*d\n",
        "w = a*d + b*c\n",
        "\n",
        "rediv1 = x/norma2\n",
        "imdiv1 = y/norma2\n",
        "rediv2 = z/norma1\n",
        "imdiv2 = w/norma1\n",
        "\n",
        "print(\"Los números complejos son\", a ,\"+\", b, \"i\", \"y\", c, \"+\", d, \"i\")\n",
        "print(\"La primera división es\", g , \"=\", rediv1, \"+\", imdiv1, \"i\")\n",
        "print(\"La segunda división es\", h, \"=\", rediv2, \"+\", imdiv2, \"i\")"
      ],
      "metadata": {
        "colab": {
          "base_uri": "https://localhost:8080/"
        },
        "id": "1-p4iGpnfi75",
        "outputId": "f933e67c-f7c9-4a95-f112-282d28a8d99a"
      },
      "execution_count": 47,
      "outputs": [
        {
          "output_type": "stream",
          "name": "stdout",
          "text": [
            "Dame la parte real del primer complejo: 2\n",
            "Dame la parte imaginaria del primer complejo: -3\n",
            "Dame la parte real del  segundo complejo: 7\n",
            "Dame la parte imaginaria del segundo complejo: -5\n",
            "Los números complejos son 2.0 + -3.0 i y 7.0 + -5.0 i\n",
            "La primera división es (2.0 - 3.0*i)/(7.0 - 5.0*i) = -0.11624763874381928 + -1.278724026182012 i\n",
            "La segunda división es (7.0 - 5.0*i)/(2.0 - 3.0*i) = 8.043152845265823 + -8.597853041491051 i\n"
          ]
        }
      ]
    }
  ]
}